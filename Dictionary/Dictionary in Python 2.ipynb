{
 "cells": [
  {
   "cell_type": "code",
   "execution_count": 53,
   "metadata": {},
   "outputs": [],
   "source": [
    "#updating dictionary \n",
    "#there are two methods : 1. using assignment operator  2.using update() method of dictionary object \n"
   ]
  },
  {
   "cell_type": "code",
   "execution_count": 54,
   "metadata": {},
   "outputs": [
    {
     "name": "stdout",
     "output_type": "stream",
     "text": [
      "Before updating ....\n",
      "{1: 'Anish', 2: 'Priya', 3: 'Aman', 4: 'Om', 5: 'Dev', 6: 'Yukti'}\n",
      "After updating...\n",
      "{1: 'Anish', 2: 'Priya', 3: 'Muski', 4: 'Om', 5: 'Dev', 6: 'Yukti'}\n"
     ]
    }
   ],
   "source": [
    "# 1. using operator method \n",
    "\n",
    "dict={1:'Anish', 2:'Priya', 3:'Aman', 4:'Om', 5:'Dev',6:'Yukti'}\n",
    "print(\"Before updating ....\")\n",
    "print(dict)\n",
    "dict[3]='Muski'\n",
    "print(\"After updating...\")\n",
    "print(dict)\n",
    "\n",
    "#we need to know that the value is changed however key remains same "
   ]
  },
  {
   "cell_type": "code",
   "execution_count": 55,
   "metadata": {},
   "outputs": [
    {
     "name": "stdout",
     "output_type": "stream",
     "text": [
      "{1: 'Anish', 2: 'Priya', 3: 'Aman', 4: 'Om', 5: 'Dev', 6: 'Yukti', 7: 'Ravi', 8: 'Rahul'}\n"
     ]
    }
   ],
   "source": [
    "# if it does not find any value for the corresponding key given then it makes new key , for example\n",
    "\n",
    "dict={1:'Anish', 2:'Priya', 3:'Aman', 4:'Om', 5:'Dev',6:'Yukti'}\n",
    "dict[7]='Ravi'\n",
    "dict[8]='Rahul'\n",
    "print(dict)"
   ]
  },
  {
   "cell_type": "code",
   "execution_count": 56,
   "metadata": {},
   "outputs": [
    {
     "name": "stdout",
     "output_type": "stream",
     "text": [
      "Before updating...\n",
      "{1: 'Anish', 2: 'Priya', 3: 'Aman', 4: 'Om', 5: 'Dev', 6: 'Yukti'}\n",
      "{4: 'Pranjal', 7: 'Shweta', 3: 'Suraj'}\n",
      "After updating...\n",
      "{1: 'Anish', 2: 'Priya', 3: 'Suraj', 4: 'Pranjal', 5: 'Dev', 6: 'Yukti', 7: 'Shweta'}\n"
     ]
    }
   ],
   "source": [
    "# 2 update() method, it takes two dictionary and update them by merging \n",
    "\n",
    "dict1={1:'Anish', 2:'Priya', 3:'Aman', 4:'Om', 5:'Dev',6:'Yukti'}\n",
    "dict2={4:'Pranjal',7:'Shweta',3:'Suraj'}\n",
    "print(\"Before updating...\")\n",
    "print(dict1)\n",
    "print(dict2)\n",
    "\n",
    "dict1.update(dict2)\n",
    "\n",
    "print(\"After updating...\")\n",
    "print(dict1)"
   ]
  },
  {
   "cell_type": "code",
   "execution_count": 57,
   "metadata": {},
   "outputs": [
    {
     "data": {
      "text/plain": [
       "'`Write a program to create a dictionary called accounts \\ncontaining account id and balance of account holders . \\nInitialize it with the following data:\\n101: 50000\\n102:45000\\n103:55000\\nNow ask the user to input an account id and amount . If \\nthe account id is present in the dictionary then update the \\nbalance by adding the amount given otherwise add a new \\nentry of account id and balance in the dictionary. Finally \\nprint all the accounts details.'"
      ]
     },
     "execution_count": 57,
     "metadata": {},
     "output_type": "execute_result"
    }
   ],
   "source": [
    "'''`Write a program to create a dictionary called accounts \n",
    "containing account id and balance of account holders . \n",
    "Initialize it with the following data:\n",
    "101: 50000\n",
    "102:45000\n",
    "103:55000\n",
    "Now ask the user to input an account id and amount . If \n",
    "the account id is present in the dictionary then update the \n",
    "balance by adding the amount given otherwise add a new \n",
    "entry of account id and balance in the dictionary. Finally \n",
    "print all the accounts details.'''"
   ]
  },
  {
   "cell_type": "code",
   "execution_count": 58,
   "metadata": {},
   "outputs": [
    {
     "name": "stdout",
     "output_type": "stream",
     "text": [
      "105\n",
      "20000\n",
      "{101: 50000, 102: 45000, 103: 55000, 105: 20000}\n"
     ]
    }
   ],
   "source": [
    "accounts={101: 50000,\n",
    "          102: 45000,\n",
    "          103: 55000}\n",
    "id=int(input())\n",
    "amount=int(input())\n",
    "if id in accounts:\n",
    "    accounts[id]+=amount\n",
    "else:\n",
    "    dict={id:amount}\n",
    "    accounts.update(dict)\n",
    "print(accounts)"
   ]
  },
  {
   "cell_type": "code",
   "execution_count": 62,
   "metadata": {},
   "outputs": [
    {
     "data": {
      "text/plain": [
       "'Arun'"
      ]
     },
     "execution_count": 62,
     "metadata": {},
     "output_type": "execute_result"
    }
   ],
   "source": [
    "#deleting data from dictionary \n",
    "\n",
    "#using pop(key)\n",
    "\n",
    "dict={1:'Anish',2:'Aman',3:'Arun',4:'Dev',5:'Rahul',6:'Ravi',7:'Jvn',8:'Aryan',9:'Atul'}\n",
    "dict.pop(3)\n",
    "\n"
   ]
  },
  {
   "cell_type": "code",
   "execution_count": 63,
   "metadata": {},
   "outputs": [
    {
     "data": {
      "text/plain": [
       "'Not found'"
      ]
     },
     "execution_count": 63,
     "metadata": {},
     "output_type": "execute_result"
    }
   ],
   "source": [
    "dict.pop(10,\"Not found\") \n",
    "\n",
    "#so we passed a key which is not present in the dictionary and therefore it is returning the default value given\n",
    "#if we will not give that default value then it will throw a Key error"
   ]
  },
  {
   "cell_type": "code",
   "execution_count": 64,
   "metadata": {},
   "outputs": [
    {
     "ename": "KeyError",
     "evalue": "11",
     "output_type": "error",
     "traceback": [
      "\u001b[1;31m---------------------------------------------------------------------------\u001b[0m",
      "\u001b[1;31mKeyError\u001b[0m                                  Traceback (most recent call last)",
      "\u001b[1;32m<ipython-input-64-06dbd8041e76>\u001b[0m in \u001b[0;36m<module>\u001b[1;34m\u001b[0m\n\u001b[1;32m----> 1\u001b[1;33m \u001b[0mdict\u001b[0m\u001b[1;33m.\u001b[0m\u001b[0mpop\u001b[0m\u001b[1;33m(\u001b[0m\u001b[1;36m11\u001b[0m\u001b[1;33m)\u001b[0m\u001b[1;33m\u001b[0m\u001b[1;33m\u001b[0m\u001b[0m\n\u001b[0m",
      "\u001b[1;31mKeyError\u001b[0m: 11"
     ]
    }
   ],
   "source": [
    "dict.pop(11)"
   ]
  },
  {
   "cell_type": "code",
   "execution_count": 65,
   "metadata": {},
   "outputs": [
    {
     "name": "stdout",
     "output_type": "stream",
     "text": [
      "{1: 'Anish', 2: 'Aman', 4: 'Dev', 5: 'Rahul', 6: 'Ravi', 7: 'Jvn', 8: 'Aryan', 9: 'Atul'}\n"
     ]
    }
   ],
   "source": [
    "print(dict)"
   ]
  },
  {
   "cell_type": "code",
   "execution_count": 66,
   "metadata": {},
   "outputs": [
    {
     "data": {
      "text/plain": [
       "(9, 'Atul')"
      ]
     },
     "execution_count": 66,
     "metadata": {},
     "output_type": "execute_result"
    }
   ],
   "source": [
    "# next method is popitem() , it takes no argument \n",
    "\n",
    "#The method popitem() removes the item that was last inserted into the dictionary. In versions before 3.7, the popitem() method\n",
    "#removes a random item.\n",
    "\n",
    "dict.popitem()\n",
    "\n"
   ]
  },
  {
   "cell_type": "code",
   "execution_count": 67,
   "metadata": {},
   "outputs": [],
   "source": [
    "del dict"
   ]
  },
  {
   "cell_type": "code",
   "execution_count": 68,
   "metadata": {},
   "outputs": [
    {
     "name": "stdout",
     "output_type": "stream",
     "text": [
      "<class 'dict'>\n"
     ]
    }
   ],
   "source": [
    "#the third method is del\n",
    "# it just delete those whose key is passed and delete all if no key is passed\n",
    "\n",
    "print(dict)\n"
   ]
  },
  {
   "cell_type": "code",
   "execution_count": 72,
   "metadata": {},
   "outputs": [
    {
     "name": "stdout",
     "output_type": "stream",
     "text": [
      "{}\n"
     ]
    }
   ],
   "source": [
    "# and the last is clear() method , just clear all and returns none\n",
    "\n",
    "my_dict={'a':'Anish','b':\"Rahul\",'c':'Rohit'}\n",
    "my_dict.clear()\n",
    "print(my_dict)"
   ]
  },
  {
   "cell_type": "code",
   "execution_count": 76,
   "metadata": {},
   "outputs": [
    {
     "name": "stdout",
     "output_type": "stream",
     "text": [
      "Anish\n",
      "123\n",
      "Atul\n",
      "500\n",
      "Amit\n",
      "900\n",
      "Ayush\n",
      "89\n",
      "rohit\n",
      "56\n",
      "900\n"
     ]
    }
   ],
   "source": [
    "# Write a program to create a dictionary called players and accept names of 5 players and their runs from the user.\n",
    "#Now find out the highest score.\n",
    "\n",
    "dict={}\n",
    "for i in range(1,6):\n",
    "    s=input()\n",
    "    run=int(input())\n",
    "    dict[s]=run\n",
    "print(max(dict.values()))\n"
   ]
  },
  {
   "cell_type": "code",
   "execution_count": 99,
   "metadata": {},
   "outputs": [
    {
     "name": "stdout",
     "output_type": "stream",
     "text": [
      "12\n",
      "Sep\n",
      "Apr\n",
      "True\n",
      "True\n",
      "['Apr', 'Aug', 'Dec', 'Feb', 'Jan', 'July', 'June', 'Mar', 'May', 'Nov', 'Oct', 'Sep']\n"
     ]
    }
   ],
   "source": [
    "# Like list , Python allows us to use the following functions with dictionary object\n",
    "\n",
    "# len()\n",
    "# max()\n",
    "# min()\n",
    "# any()\n",
    "# all()\n",
    "# sorted()\n",
    "# dict()\n",
    "\n",
    "dict={'Jan':31,'Feb':29,'Mar':31,'Apr':30,'May':31,'June':30,'July':31,'Aug':31,'Sep':30,'Oct':31,'Nov':30,'Dec':31}\n",
    "print(len(dict))\n",
    "print(max(dict))\n",
    "print(min(dict))\n",
    "print(any(dict))\n",
    "print(all(dict))\n",
    "print(sorted(dict))"
   ]
  },
  {
   "cell_type": "code",
   "execution_count": null,
   "metadata": {},
   "outputs": [],
   "source": [
    "\n",
    "\n",
    "    "
   ]
  },
  {
   "cell_type": "code",
   "execution_count": null,
   "metadata": {},
   "outputs": [],
   "source": []
  }
 ],
 "metadata": {
  "kernelspec": {
   "display_name": "Python 3",
   "language": "python",
   "name": "python3"
  },
  "language_info": {
   "codemirror_mode": {
    "name": "ipython",
    "version": 3
   },
   "file_extension": ".py",
   "mimetype": "text/x-python",
   "name": "python",
   "nbconvert_exporter": "python",
   "pygments_lexer": "ipython3",
   "version": "3.7.4"
  }
 },
 "nbformat": 4,
 "nbformat_minor": 2
}
