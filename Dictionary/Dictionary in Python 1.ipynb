{
 "cells": [
  {
   "cell_type": "code",
   "execution_count": 17,
   "metadata": {},
   "outputs": [
    {
     "name": "stdout",
     "output_type": "stream",
     "text": [
      "{1: 'Anish', 2: 'Priya', 3: 'Dev', 4: 'Muski'}\n"
     ]
    }
   ],
   "source": [
    "#dictionary \n",
    "\n",
    "#creating a dictionary\n",
    "dict={1:'Anish',2:'Priya',3:'Dev',4:'Muski'}  \n",
    "\n",
    "#printing a dictionary\n",
    "print(dict)"
   ]
  },
  {
   "cell_type": "code",
   "execution_count": 18,
   "metadata": {},
   "outputs": [
    {
     "name": "stdout",
     "output_type": "stream",
     "text": [
      "Priya\n"
     ]
    }
   ],
   "source": [
    "#for printing the particular value we use [] operator\n",
    "\n",
    "print(dict[2])"
   ]
  },
  {
   "cell_type": "code",
   "execution_count": 19,
   "metadata": {},
   "outputs": [
    {
     "name": "stdout",
     "output_type": "stream",
     "text": [
      "Priya\n"
     ]
    }
   ],
   "source": [
    "#using the get() method\n",
    "\n",
    "print(dict.get(2))"
   ]
  },
  {
   "cell_type": "code",
   "execution_count": 20,
   "metadata": {},
   "outputs": [],
   "source": [
    "# Python allows us three ways to traverse over a dictionary:\n",
    "\n",
    "# Iterate only on keys\n",
    "\n",
    "# Iterate on both , keys and values \n",
    "\n",
    "# Iterate only on values\n"
   ]
  },
  {
   "cell_type": "code",
   "execution_count": 21,
   "metadata": {},
   "outputs": [
    {
     "name": "stdout",
     "output_type": "stream",
     "text": [
      "1\n",
      "2\n",
      "3\n",
      "4\n",
      "5\n",
      "6\n",
      "7\n"
     ]
    }
   ],
   "source": [
    "#Iterate only on keys \n",
    "\n",
    "dict={1:'Anish',2:'Priya',3:'Dev',4:'Muski',5:'Rahul',6:'Aman',7:'Pallavi'} \n",
    "for i in dict:\n",
    "    print(i)\n",
    "    \n",
    "    \n",
    "#note: When for ... in is used on a dictionary, looping is by default done over its keys, and not over the values or \n",
    "#      the key:value pairs:\n"
   ]
  },
  {
   "cell_type": "code",
   "execution_count": 22,
   "metadata": {},
   "outputs": [
    {
     "name": "stdout",
     "output_type": "stream",
     "text": [
      "Roll no: 1\n",
      "Roll no: 2\n",
      "Roll no: 3\n",
      "Roll no: 4\n",
      "Roll no: 5\n",
      "Roll no: 6\n",
      "Roll no: 7\n"
     ]
    }
   ],
   "source": [
    "#iterate only on keys using keys() function.\n",
    "#Python provides us a method called keys() which will return all keys inside given dictionary as Python list \n",
    "#Then this list will be iterated with for loop.\n",
    "\n",
    "dict={1:'Anish',2:'Priya',3:'Dev',4:'Muski',5:'Rahul',6:'Aman',7:'Pallavi'} \n",
    "for roll in dict.keys():\n",
    "    print(\"Roll no:\",roll)\n",
    "\n"
   ]
  },
  {
   "cell_type": "code",
   "execution_count": 23,
   "metadata": {},
   "outputs": [
    {
     "name": "stdout",
     "output_type": "stream",
     "text": [
      "Roll: 1 Name: Anish\n",
      "Roll: 2 Name: Priya\n",
      "Roll: 3 Name: Dev\n",
      "Roll: 4 Name: Muski\n",
      "Roll: 5 Name: Rahul\n",
      "Roll: 6 Name: Aman\n",
      "Roll: 7 Name: Pallavi\n"
     ]
    }
   ],
   "source": [
    "# Iterate on both , keys and values \n",
    "# we use a function called items() to iterate over both\n",
    "\n",
    "dict={1:'Anish',2:'Priya',3:'Dev',4:'Muski',5:'Rahul',6:'Aman',7:'Pallavi'}\n",
    "\n",
    "for roll,name in dict.items():\n",
    "    print(\"Roll:\",roll,\"Name:\",name)\n"
   ]
  },
  {
   "cell_type": "code",
   "execution_count": 24,
   "metadata": {},
   "outputs": [
    {
     "name": "stdout",
     "output_type": "stream",
     "text": [
      "Name: Anish\n",
      "Name: Priya\n",
      "Name: Dev\n",
      "Name: Muski\n",
      "Name: Rahul\n",
      "Name: Aman\n",
      "Name: Pallavi\n"
     ]
    }
   ],
   "source": [
    "#Iterate only on values \n",
    "#To do this we can use values() method provided by dictionary type which will populate values in given dictionary in an \n",
    "#iterable format.\n",
    "\n",
    "dict={1:'Anish',2:'Priya',3:'Dev',4:'Muski',5:'Rahul',6:'Aman',7:'Pallavi'}\n",
    "\n",
    "for name in dict.values():\n",
    "    print(\"Name:\",name)\n"
   ]
  },
  {
   "cell_type": "code",
   "execution_count": 25,
   "metadata": {},
   "outputs": [],
   "source": [
    "#conclusion : We just learnt how to make dictionary and how to print and at last how to iterate.\n",
    "# Things to keep in mind is items() and keys() functions used in dictionary."
   ]
  },
  {
   "cell_type": "code",
   "execution_count": null,
   "metadata": {},
   "outputs": [],
   "source": []
  }
 ],
 "metadata": {
  "kernelspec": {
   "display_name": "Python 3",
   "language": "python",
   "name": "python3"
  },
  "language_info": {
   "codemirror_mode": {
    "name": "ipython",
    "version": 3
   },
   "file_extension": ".py",
   "mimetype": "text/x-python",
   "name": "python",
   "nbconvert_exporter": "python",
   "pygments_lexer": "ipython3",
   "version": "3.7.4"
  }
 },
 "nbformat": 4,
 "nbformat_minor": 2
}
