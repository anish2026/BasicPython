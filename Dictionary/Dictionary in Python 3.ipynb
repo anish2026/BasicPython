{
 "cells": [
  {
   "cell_type": "code",
   "execution_count": 2,
   "metadata": {},
   "outputs": [],
   "source": [
    "#Python provides us following methods to work upon dictionary object:\n",
    "\n",
    "# clear()\n",
    "# copy()\n",
    "# setdefault()\n",
    "# get()\n",
    "# items()\n",
    "# keys()\n",
    "#values()\n",
    "# pop()\n",
    "# popitem()\n",
    "# update()"
   ]
  },
  {
   "cell_type": "code",
   "execution_count": 56,
   "metadata": {},
   "outputs": [
    {
     "name": "stdout",
     "output_type": "stream",
     "text": [
      "{}\n"
     ]
    }
   ],
   "source": [
    "dict={1:'A',2:'B',3:'C',4:'D',5:'E'}\n",
    "dict.clear()\n",
    "print(dict)"
   ]
  },
  {
   "cell_type": "code",
   "execution_count": 57,
   "metadata": {},
   "outputs": [
    {
     "name": "stdout",
     "output_type": "stream",
     "text": [
      "{1: 'A', 2: 'B', 3: 'C', 4: 'D', 5: 'E'}\n"
     ]
    }
   ],
   "source": [
    "dict={1:'A',2:'B',3:'C',4:'D',5:'E'}\n",
    "dict1=dict.copy()\n",
    "print(dict1)"
   ]
  },
  {
   "cell_type": "code",
   "execution_count": 58,
   "metadata": {},
   "outputs": [
    {
     "name": "stdout",
     "output_type": "stream",
     "text": [
      "C\n",
      "None\n",
      "Not found\n"
     ]
    }
   ],
   "source": [
    "dict={1:'A',2:'B',3:'C',4:'D',5:'E'}\n",
    "print(dict.setdefault(3))\n",
    "print(dict.setdefault(8))\n",
    "print(dict.setdefault(7,\"Not found\"))"
   ]
  },
  {
   "cell_type": "code",
   "execution_count": 59,
   "metadata": {},
   "outputs": [
    {
     "name": "stdout",
     "output_type": "stream",
     "text": [
      "C\n",
      "None\n",
      "Same as upar wala method\n"
     ]
    }
   ],
   "source": [
    "dict={1:'A',2:'B',3:'C',4:'D',5:'E'}\n",
    "print(dict.get(3))\n",
    "print(dict.get(7))\n",
    "print(dict.get(8,\"Same as upar wala method\"))"
   ]
  },
  {
   "cell_type": "code",
   "execution_count": 60,
   "metadata": {},
   "outputs": [
    {
     "name": "stdout",
     "output_type": "stream",
     "text": [
      "1 A\n",
      "2 B\n",
      "3 C\n",
      "4 D\n",
      "5 E\n"
     ]
    }
   ],
   "source": [
    "dict={1:'A',2:'B',3:'C',4:'D',5:'E'}\n",
    "for i,j in dict.items():\n",
    "    print(i,j)"
   ]
  },
  {
   "cell_type": "code",
   "execution_count": 61,
   "metadata": {},
   "outputs": [
    {
     "name": "stdout",
     "output_type": "stream",
     "text": [
      "1\n",
      "2\n",
      "3\n",
      "4\n",
      "5\n"
     ]
    }
   ],
   "source": [
    "dict={1:'A',2:'B',3:'C',4:'D',5:'E'}\n",
    "for i in dict.keys():\n",
    "    print(i)"
   ]
  },
  {
   "cell_type": "code",
   "execution_count": 62,
   "metadata": {},
   "outputs": [
    {
     "name": "stdout",
     "output_type": "stream",
     "text": [
      "A\n",
      "B\n",
      "C\n",
      "D\n",
      "E\n"
     ]
    }
   ],
   "source": [
    "dict={1:'A',2:'B',3:'C',4:'D',5:'E'}\n",
    "for i in dict.values():\n",
    "    print(i)"
   ]
  },
  {
   "cell_type": "code",
   "execution_count": 63,
   "metadata": {},
   "outputs": [
    {
     "data": {
      "text/plain": [
       "'A'"
      ]
     },
     "execution_count": 63,
     "metadata": {},
     "output_type": "execute_result"
    }
   ],
   "source": [
    "dict={1:'A',2:'B',3:'C',4:'D',5:'E'}\n",
    "dict.pop(1)\n"
   ]
  },
  {
   "cell_type": "code",
   "execution_count": 64,
   "metadata": {},
   "outputs": [
    {
     "data": {
      "text/plain": [
       "(5, 'E')"
      ]
     },
     "execution_count": 64,
     "metadata": {},
     "output_type": "execute_result"
    }
   ],
   "source": [
    "dict={1:'A',2:'B',3:'C',4:'D',5:'E'}\n",
    "dict.popitem()"
   ]
  },
  {
   "cell_type": "code",
   "execution_count": 65,
   "metadata": {},
   "outputs": [
    {
     "name": "stdout",
     "output_type": "stream",
     "text": [
      "{1: 'A', 2: 'B', 3: 'C', 4: 'S', 5: 'E', 7: 'L', 8: 'O'}\n"
     ]
    }
   ],
   "source": [
    "dict={1:'A',2:'B',3:'C',4:'D',5:'E'}\n",
    "dict1={4:'S',7:'L',8:'O'}\n",
    "dict.update(dict1)\n",
    "print(dict)"
   ]
  },
  {
   "cell_type": "code",
   "execution_count": 66,
   "metadata": {},
   "outputs": [
    {
     "name": "stdout",
     "output_type": "stream",
     "text": [
      "True\n",
      "False\n"
     ]
    }
   ],
   "source": [
    "# Using in And not in With Dictionary\n",
    "\n",
    "dict={1:'A',2:'B',3:'C',4:'D',5:'E'}\n",
    "print(2 in dict)\n",
    "print(4 not in dict)"
   ]
  },
  {
   "cell_type": "code",
   "execution_count": 68,
   "metadata": {},
   "outputs": [
    {
     "name": "stdout",
     "output_type": "stream",
     "text": [
      "{1: 'A', 2: 'B', 3: 'C', 4: 'D', 5: 'E'}\n"
     ]
    }
   ],
   "source": [
    "#dictionary comprehension \n",
    "\n",
    "dict={1:'A',2:'B',3:'C',4:'D',5:'E'}\n",
    "new_dict={k:v for k,v in dict.items()}\n",
    "print(new_dict)\n"
   ]
  },
  {
   "cell_type": "code",
   "execution_count": 69,
   "metadata": {},
   "outputs": [
    {
     "name": "stdout",
     "output_type": "stream",
     "text": [
      "{'a': 2, 'b': 4, 'c': 6, 'd': 8, 'e': 10}\n"
     ]
    }
   ],
   "source": [
    "# Write a program to produce a new dictionary from the given dictionary with the values of each key getting doubled\n",
    "\n",
    "# dict1 = {'a': 1, 'b': 2, 'c': 3, 'd': 4, 'e': 5}\n",
    "\n",
    "dict1 = {'a': 1, 'b': 2, 'c': 3, 'd': 4, 'e': 5}\n",
    "new_dict={k:2*v for k,v in dict1.items()}\n",
    "print(new_dict)"
   ]
  },
  {
   "cell_type": "code",
   "execution_count": 71,
   "metadata": {},
   "outputs": [
    {
     "name": "stdout",
     "output_type": "stream",
     "text": [
      "{'aa': 1, 'bb': 2, 'cc': 3, 'dd': 4, 'ee': 5}\n"
     ]
    }
   ],
   "source": [
    "# Write a program to produce a new dictionary from the given dictionary with the keys of each key getting doubled\n",
    "\n",
    "# dict1 = {'a': 1, 'b': 2, 'c': 3, 'd': 4, 'e': 5}\n",
    "\n",
    "dict1 = {'a': 1, 'b': 2, 'c': 3, 'd': 4, 'e': 5}\n",
    "new_dict = {2*k:v for k,v in dict1.items()}\n",
    "print(new_dict)"
   ]
  },
  {
   "cell_type": "code",
   "execution_count": 86,
   "metadata": {},
   "outputs": [
    {
     "name": "stdout",
     "output_type": "stream",
     "text": [
      "anish anand srivastava \n",
      "a 6\n",
      "n 3\n",
      "i 2\n",
      "s 3\n",
      "h 1\n",
      "  3\n",
      "d 1\n",
      "r 1\n",
      "v 2\n",
      "t 1\n"
     ]
    }
   ],
   "source": [
    "#Write a program to accept a string from the user and print the frequency count of it’s letters ,\n",
    "#i.e. how many times each letter is occuring in the string\n",
    "\n",
    "s=input()\n",
    "dict ={ch:s.count(ch) for ch in s}\n",
    "for k,v in dict.items():\n",
    "    print(k,v)"
   ]
  },
  {
   "cell_type": "code",
   "execution_count": null,
   "metadata": {},
   "outputs": [],
   "source": [
    "# Adding Conditions To Dictionary Comprehension\n",
    "\n",
    "#Like list comprehension , dictionary comprehension also allows us to add conditionals to make it more powerful.\n",
    "\n",
    "# Syntax:\n",
    "\n",
    "# dict_variable = { key:value for (key,value) in iterable <test_cond>}\n",
    "\n",
    "# As usual , only those key-value pairs will be returned by dictionary comprehension which satisfy the condition\n"
   ]
  },
  {
   "cell_type": "code",
   "execution_count": 94,
   "metadata": {},
   "outputs": [
    {
     "name": "stdout",
     "output_type": "stream",
     "text": [
      "{'c': 6, 'd': 8, 'e': 10}\n"
     ]
    }
   ],
   "source": [
    "#Write a program to produce a new dictionary from the given dictionary but with the values that are greater than 2\n",
    "#dict1 = {'a': 1, 'b': 2, 'c': 3, 'd': 4, 'e': 5}\n",
    "\n",
    "dict1 = {'a': 1, 'b': 2, 'c': 3, 'd': 4, 'e': 5}\n",
    "dict={ k:2*v for (k,v) in dict1.items() if v>2 }\n",
    "print(dict)\n",
    "\n",
    "\n"
   ]
  },
  {
   "cell_type": "code",
   "execution_count": 96,
   "metadata": {},
   "outputs": [
    {
     "name": "stdout",
     "output_type": "stream",
     "text": [
      "{'d': 8}\n"
     ]
    }
   ],
   "source": [
    "# Write a program to produce a new dictionary from the given dictionary but with the values that are greater than 2 \n",
    "#as well as multiple of 2\n",
    "\n",
    "#dict1 = {'a': 1, 'b': 2, 'c': 3, 'd': 4, 'e': 5}\n",
    "\n",
    "dict1 = {'a': 1, 'b': 2, 'c': 3, 'd': 4, 'e': 5}\n",
    "dict={k:2*v for k,v in dict1.items() if v>2 if v%2==0}\n",
    "print(dict2)\n"
   ]
  },
  {
   "cell_type": "code",
   "execution_count": 1,
   "metadata": {},
   "outputs": [
    {
     "name": "stdout",
     "output_type": "stream",
     "text": [
      "{'a': 'odd', 'b': 'even', 'c': 'odd', 'd': 'even', 'e': 'odd'}\n"
     ]
    }
   ],
   "source": [
    "# Write a program to produce a new dictionary from the given dictionary but with the value should be the string “EVEN” for \n",
    "# even values and “ODD” for odd values.\n",
    "\n",
    "dict1 = {'a': 1, 'b': 2, 'c': 3, 'd': 4, 'e': 5}\n",
    "dict={k:'even'if v%2==0 else 'odd' for k,v in dict1.items()}\n",
    "print(dict)\n",
    "    "
   ]
  },
  {
   "cell_type": "code",
   "execution_count": null,
   "metadata": {},
   "outputs": [],
   "source": []
  },
  {
   "cell_type": "code",
   "execution_count": null,
   "metadata": {},
   "outputs": [],
   "source": []
  }
 ],
 "metadata": {
  "kernelspec": {
   "display_name": "Python 3",
   "language": "python",
   "name": "python3"
  },
  "language_info": {
   "codemirror_mode": {
    "name": "ipython",
    "version": 3
   },
   "file_extension": ".py",
   "mimetype": "text/x-python",
   "name": "python",
   "nbconvert_exporter": "python",
   "pygments_lexer": "ipython3",
   "version": "3.7.4"
  }
 },
 "nbformat": 4,
 "nbformat_minor": 2
}
